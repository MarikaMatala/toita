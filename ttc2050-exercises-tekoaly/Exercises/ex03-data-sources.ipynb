{
 "cells": [
  {
   "cell_type": "markdown",
   "metadata": {},
   "source": [
    "## Exercise 3 - Data sources\n",
    "- All files used in this exercise can be found under the Exercises/data_files directory"
   ]
  },
  {
   "cell_type": "markdown",
   "metadata": {},
   "source": [
    "1 Use gamedata.json for this task. This file contains information of games sold through Steam. Parse out the following information from the data:\r\n",
    "- TOP 3 highest metacritic score. Present results using the following format: *Title* has metacritic score of *Score* (for example)\r\n",
    "- Games with price discount being 90 % or more. Present results using the following format: *Title* | Discount: *Savings* (for example Metal Gear Solid V: Ground Zeroes | Discount: 90.090090)\r\n",
    "- Games having metacritic score higher than steam score. Present results using the following format: *Title* has metacritic score of *MetacriticScore* and steam score of *SteamRatingPercent*"
   ]
  },
  {
   "cell_type": "code",
   "execution_count": 4,
   "metadata": {},
   "outputs": [
    {
     "name": "stdout",
     "output_type": "stream",
     "text": [
      "--------- Highest Metacritic Scores ---------\n",
      "Title: Star Wars: Knights of the Old Republic, Score: 93\n",
      "Title: Metal Gear Solid V: The Phantom Pain, Score: 91\n",
      "Title: Bayonetta, Score: 90\n",
      "\n",
      "--------- Discount over 90 % ---------\n",
      "Shadow Tactics: Blades of the Shogun | discount: 36.0 €\n",
      "Airscape: The Fall of Gravity | discount: 4.5 €\n",
      "Making History: The Calm and the Storm | discount: 4.5 €\n",
      "Avencast: Rise of the Mage | discount: 9.0 €\n",
      "Metal Gear Solid V: Ground Zeroes | discount: 18.0 €\n",
      "The Way | discount: 13.5 €\n",
      "Teslagrad | discount: 9.0 €\n",
      "White Wings  | discount: 18.0 €\n",
      "Phantaruk | discount: 4.5 €\n",
      "Oozi Earth Adventure | discount: 4.5 €\n",
      "Lucius | discount: 9.0 €\n",
      "The Long Journey Home | discount: 18.0 €\n",
      "NEON STRUCT | discount: 16.2 €\n",
      "House of Caravan | discount: 4.5 €\n",
      "\n",
      "--------- MetaCritic over SteamRating ---------\n",
      "NBA 2K21 has Metacritic score of '67' and a Steam score of '39'\n",
      "Commander 85 has Metacritic score of '45' and a Steam score of '35'\n",
      "Inversion has Metacritic score of '59' and a Steam score of '57'\n",
      "Bionic Commando: Rearmed has Metacritic score of '86' and a Steam score of '71'\n",
      "Metal Gear Solid V: The Phantom Pain has Metacritic score of '91' and a Steam score of '90'\n",
      "Port Royale 2 has Metacritic score of '75' and a Steam score of '68'\n",
      "Project Cars 2 has Metacritic score of '84' and a Steam score of '79'\n",
      "Full Spectrum Warrior has Metacritic score of '80' and a Steam score of '65'\n",
      "The Long Journey Home has Metacritic score of '68' and a Steam score of '60'\n",
      "Star Wars: Knights of the Old Republic has Metacritic score of '93' and a Steam score of '90'\n",
      "Starpoint Gemini Warlords has Metacritic score of '73' and a Steam score of '72'\n",
      "Tidalis has Metacritic score of '75' and a Steam score of '70'\n"
     ]
    }
   ],
   "source": [
    "import json\n",
    "\n",
    "with open('data_files/gamedata.json') as f:\n",
    "    gamedata = json.load(f)\n",
    "    score_list = []\n",
    "    score_and_title = []\n",
    "\n",
    "    discount_and_title = []\n",
    "    meta_over_steam = []\n",
    "    tmp_title = ''\n",
    "    for game in gamedata:\n",
    "        for key, value in game.items():\n",
    "            if key == 'title':\n",
    "                tmp_title = value\n",
    "            elif key == 'metacriticScore':\n",
    "                metaCritic = int(value)\n",
    "                score_list.append(value)\n",
    "                score_and_title.append({'value': value, 'title': tmp_title})\n",
    "            elif key == 'steamRatingPercent':\n",
    "                steamRating = int(value)\n",
    "            elif key == 'salePrice':\n",
    "                discount = float(value)\n",
    "            elif key == 'normalPrice':\n",
    "                original = float(value)\n",
    "                \n",
    "        if discount <= original * 0.1:\n",
    "            discount_and_title.append({'title': tmp_title, 'original': original, 'discount': discount})\n",
    "        if metaCritic > steamRating:\n",
    "            meta_over_steam.append({'title': tmp_title, 'metaCritic': metaCritic, 'steamRating': steamRating})\n",
    "            \n",
    "\n",
    "score_list.sort(reverse=True)\n",
    "\n",
    "\n",
    "print('--------- Highest Metacritic Scores ---------')\n",
    "for i in score_list[:3]:\n",
    "    for j in range(len(score_and_title)):\n",
    "        if i == score_and_title[j]['value']:\n",
    "            print(f'Title: {score_and_title[j][\"title\"]}, Score: {score_and_title[j][\"value\"]}')\n",
    "            score_and_title[j]['value'] = 0\n",
    "            \n",
    "print('\\n--------- Discount over 90 % ---------')\n",
    "for i in discount_and_title:\n",
    "    print(f'{i[\"title\"]} | discount: {i[\"original\"] - i[\"discount\"]} €')\n",
    "    \n",
    "print('\\n--------- MetaCritic over SteamRating ---------')\n",
    "for i in meta_over_steam:\n",
    "    print(f\"{i['title']} has Metacritic score of '{i['metaCritic']}' and a Steam score of '{i['steamRating']}'\")"
   ]
  },
  {
   "cell_type": "markdown",
   "metadata": {},
   "source": [
    "2 Use earthquakes.csv for this task. This file contains information about earthquakes recorded between 1965 and 2016. Earthquake magnitude value describes how strong the earthquake is. Magnitude information can be categorized like presented in the table below (*Source: http://www.geo.mtu.edu/UPSeis/magnitude.html*).\n",
    "\n",
    "| Magnitude      | Class | Effects |\n",
    "|----------------|-------|---------|\n",
    "| 2.5 or less    | Minor | Usually not felt, but can be recorded by seismograph. |\n",
    "| 2.5 to 5.4     | Light | Often felt, but only causes minor damage. |\n",
    "| 5.5 to 6.0     | Moderate | Slight damage to buildings and other structures. |\n",
    "| 6.1 to 6.9     | Strong | May cause a lot of damage in very populated areas. |\n",
    "| 7.0 to 7.9     | Major | Major earthquake. Serious damage. |\n",
    "| 8.0 or greater | Great | Great earthquake. Can totally destroy communities near the epicenter. |\n",
    "\n",
    "Count how many earthquakes have occurred in each class."
   ]
  },
  {
   "cell_type": "code",
   "execution_count": 5,
   "metadata": {},
   "outputs": [
    {
     "name": "stdout",
     "output_type": "stream",
     "text": [
      "{'Minor': 0, 'Light': 0, 'Mod': 17638, 'Strong': 5035, 'Maj': 698, 'Great': 41}\n"
     ]
    }
   ],
   "source": [
    "import csv\n",
    "\n",
    "with open('data_files/earthquakes.csv') as f:\n",
    "    eq_csv = csv.reader(f)\n",
    "    eq_list = [i for i in eq_csv]\n",
    "    eq_class_count = {'Minor': 0, 'Light': 0, 'Mod': 0, 'Strong': 0, 'Maj': 0, 'Great': 0}\n",
    "    mag_int = 0\n",
    "    for quake in eq_list[1:]:\n",
    "        mag_int = float(quake[8])\n",
    "        if mag_int <= 2.5:\n",
    "            eq_class_count['Minor'] += 1\n",
    "        elif mag_int > 2.5 and mag_int <= 5.4:\n",
    "            eq_class_count['Light'] += 1\n",
    "        elif mag_int >= 5.5 and mag_int <= 6.0:\n",
    "            eq_class_count['Mod'] += 1\n",
    "        elif mag_int >= 6.1 and mag_int <= 6.9:\n",
    "            eq_class_count['Strong'] += 1\n",
    "        elif mag_int >= 7.0 and mag_int <= 7.9:\n",
    "            eq_class_count['Maj'] += 1\n",
    "        else:\n",
    "            eq_class_count['Great'] += 1\n",
    "\n",
    "print(eq_class_count)"
   ]
  },
  {
   "cell_type": "markdown",
   "metadata": {},
   "source": [
    "3 Use netflix_titles.xml for this task. This file contains information about Netflix movies and TV shows. **Important:** Movies have duration presented in minutes while TV shows have duration presented in amount of seasons! Parse out the following information from the data:\n",
    "- Movies released in 2017\n",
    "- TV show and movie amount (present both counts in separate lines)\n",
    "- Movies with a length between 15 and 20 minutes (values 15 and 20 included)"
   ]
  },
  {
   "cell_type": "code",
   "execution_count": 6,
   "metadata": {},
   "outputs": [
    {
     "name": "stdout",
     "output_type": "stream",
     "text": [
      "\n",
      "Movies and TV-Shows released in 2017 | count: 1012\n",
      "First ten movies released in 2017:\n",
      "1922\n",
      "'89\n",
      "​Maj Rati ​​Keteki\n",
      "​Mayurakshi\n",
      "#realityhigh\n",
      "Ég man þig\n",
      "1 Mile to You\n",
      "10 Days in Sun City\n",
      "100% Hotter\n",
      "12 ROUND GUN\n",
      "\n",
      "TV-Shows: 2410\n",
      "Movies: 5377\n",
      "\n",
      "Movies that are between 15 and 20 minutes: | count 11\n",
      "['A Love Song for Latasha', 'ANIMA', 'John Was Trying to Contact Aliens', 'Little Miss Sumo', 'Michael Lost and Found', 'Pocoyo & Cars', 'Sitara: Let Girls Dream', 'The Battle of Midway', 'The Claudia Kishi Club', 'WHAT DID JACK DO?', 'Ya no estoy aquí: Una conversación entre Guillermo del Toro y Alfonso Cuarón']\n"
     ]
    }
   ],
   "source": [
    "import xml.etree.ElementTree as e\n",
    "\n",
    "tree = e.parse('data_files/netflix_titles.xml')\n",
    "root = tree.getroot()\n",
    "\n",
    "movies_2017 = []\n",
    "len_movie = []\n",
    "\n",
    "\n",
    "tv_count = 0\n",
    "mov_count = 0\n",
    "\n",
    "titles = []\n",
    "for i in root:\n",
    "    tmp = {}\n",
    "    is_movie = False\n",
    "    for j in i:\n",
    "        if j.tag == 'release_year' and j.text == '2017':\n",
    "            movies_2017.append(i)\n",
    "        if j.tag == 'type':\n",
    "            if j.text == 'TV Show':\n",
    "                tv_count += 1\n",
    "            elif j.text == 'Movie':\n",
    "                mov_count += 1\n",
    "                is_movie = True\n",
    "        if j.tag == 'duration' and is_movie:\n",
    "            duration = int(j.text.split(' ')[0])\n",
    "            if duration >= 15 and duration <= 20:\n",
    "                len_movie.append(i)\n",
    "        \n",
    "new_movies_2017 = []\n",
    "new_len_mov = []\n",
    "\n",
    "\n",
    "for i in movies_2017:\n",
    "    for j in i:\n",
    "        if j.tag == 'type' and j.text != 'TV Show':\n",
    "            continue\n",
    "        elif j.tag == 'title':\n",
    "            new_movies_2017.append(j.text)\n",
    "            \n",
    "            \n",
    "print(f'\\nMovies and TV-Shows released in 2017 | count: {len(new_movies_2017)}')\n",
    "print('First ten movies released in 2017:')\n",
    "for i in new_movies_2017[:10]:\n",
    "    print(i)\n",
    "# Koska näitä tulisi niin paljon palautan vain muutaman\n",
    "\n",
    "print(f'\\nTV-Shows: {tv_count}\\nMovies: {mov_count}')\n",
    "\n",
    "print(f'\\nMovies that are between 15 and 20 minutes: | count {len(len_movie)}')\n",
    "for i in len_movie:\n",
    "    for j in i:\n",
    "        if j.tag == 'title':\n",
    "            new_len_mov.append(j.text)\n",
    "print(new_len_mov) "
   ]
  },
  {
   "cell_type": "markdown",
   "metadata": {},
   "source": [
    "4 Use the following Rest API for this task: https://tie.digitraffic.fi/api/v1/data/weather-data. Calculate the average for air temperature (ILMA) and humidity (ILMAN_KOSTEUS) values using two decimals."
   ]
  },
  {
   "cell_type": "code",
   "execution_count": 7,
   "metadata": {},
   "outputs": [
    {
     "name": "stdout",
     "output_type": "stream",
     "text": [
      "AVG of air temp: -19.51\n",
      "AVG of humidity: 81.9\n"
     ]
    }
   ],
   "source": [
    "import requests\n",
    "\n",
    "url = \"https://tie.digitraffic.fi/api/v1/data/weather-data\"\n",
    "\n",
    "req = requests.get(url=url)\n",
    "\n",
    "sum_of_air = 0\n",
    "count_of_air = 0\n",
    "\n",
    "sum_of_hum = 0\n",
    "count_of_hum = 0\n",
    "\n",
    "data = req.json()\n",
    "for i in data['weatherStations']:\n",
    "    for sensorvalues in i['sensorValues']:\n",
    "        if sensorvalues['name'] == 'ILMA':\n",
    "            sum_of_air += sensorvalues['sensorValue']\n",
    "            count_of_air += 1\n",
    "        elif sensorvalues['name'] == 'ILMAN_KOSTEUS':\n",
    "            sum_of_hum += sensorvalues['sensorValue']\n",
    "            count_of_hum += 1\n",
    "        \n",
    "print(f'AVG of air temp: {round(sum_of_air/count_of_air, 2)}')\n",
    "print(f'AVG of humidity: {round(sum_of_hum/count_of_hum, 2)}')"
   ]
  },
  {
   "cell_type": "markdown",
   "metadata": {},
   "source": [
    "5 Use the following Rest API for this task: https://open-api.myhelsinki.fi/v1/events/. This API provides the information for events held in Helsinki city area. List all music event names in finnish (tip: event tag must have string \"music\" in it). **Important:** Each event name should only be listed once!"
   ]
  },
  {
   "cell_type": "code",
   "execution_count": 8,
   "metadata": {},
   "outputs": [
    {
     "name": "stdout",
     "output_type": "stream",
     "text": [
      "['Kitararyhmä', 'Harrastelijasoittajien jamit – avoin ryhmä', 'Avoin karaokeryhmä', 'Kibecon 2022', 'Pekka Streng -ilta', 'Musiikin teematiistai: kuuntelupiiri 2', 'Ukuleleryhmien konsertti', 'Bändi \"Staroe kino\" Oodissa', 'Mimmit Töölön kirjastossa', 'PERUTTU Joulukaraoke Ison Omenan kirjastossa', 'Joulukaraoke Sellon kirjastossa', 'Hyksetin joulukonsertti', 'Musiikkisatu', 'Raoul Björkenheim Trio Maagisessa paikassa', 'OodiSoi! ArtturiW', 'Joululauluja Herttoniemen kirjastossa', 'Café Barock: Vanhan musiikin uudet toivot - lounaskonsertti Kirjatornissa', 'Musiikin teematiistai: soitinesittely', 'Rihmasto - Äänen juurella', 'Töölön musiikkiopiston konsertti', 'Latinolaulujen ilta - Vamos a cantar!', 'KITKA KOLLEKTIIVI: Same same but different -Nykytanssiteos', 'Pianokonsertti', 'Runolaulujamit', 'Populaarimusiikin lukupiiri', 'Kohti joulua: joululauluja Suomesta ja maailmalta', 'Philomelan lauluyhtye Maunulan kirjastossa', 'Pamelan svengaavat swingit', 'Hetkiä helmien nauha', 'Ukulele, alkeiden jatkoryhmä', 'Merry Ladies - joulua ja yllätyksiä', 'Historian unohtamat orkesterimusiikit – Ingeborg von Bronsart', 'Musiikin teematiistai: kuuntelupiiri 1', 'Itsenäisyyden juhlaa Kallion kirjastossa su 5.12.', 'Ilo Ensemble: Lauluja taitekohdista', 'Leonard Bernstein: Candide-operetti', 'Marion: Aurinkosilmät -konserttikiertue', 'Ressu Redford – Konserttisalikiertue 2022', 'Steve Harley & Cockney Rebel', 'Astrid Swan, Akkajee', 'Ranky Tanky – Get Funky (USA) – Savoy World', 'Etelä tanssii!', 'Maria Rautakorpi ja Duo IhanUus: Souvenirs', 'Nyt lauletaan! – Maksuttomat maanantait', 'Juuret – The Roots – Maailma-kuoron konsertti', 'Tampereen Ukuleleorkesteri', 'Aurinkokuninkaan oikut – Barokkimusiikkia parhaimmillaan', 'Kitkerät Neitsyet – Kabareeta Kanneltalossa', 'Ilkka Arola Sound Tagine – Levynjulkaisukiertue', 'Hei, mikä fiilis? – Isaac Sene', 'Karstulan Mieslaulajat: Musiikkisatiiri TULITAUKO', 'Tuure Kilpeläinen ja Kaihon Karavaani: Paluu paratiisiin 2022', 'Rosa Coste + jambo + Shrty – Stoa Black Box', 'Kantsun keskiviikkoklubi – Mikki on auki!', 'GROUPER (US)', 'Wusheng Companyn Macbeth', 'Teijo Eloranta (Maisteri T) – Juurilla I Maksuttomat maanantait', 'Piazzolla – Tango nuevo', 'The Elvis Concert 2022', 'Eläköön elämä ja TixiBand', 'Space Habib', 'P-Floyd (SWE) – Coming Back To Life Tour 2022', 'Laura Moisio & Kielo Kärkkäinen', 'Knipi: 50-vuotisjuhlakonsertti', 'Unreality-kuoro: Futureality – Pelimusiikkia kuoron esittämänä', 'Ilkka Vainio - Koko Kansan Laulut', 'Muska & Yhtye: Kirka 70 v. Tribute', 'Hei, mikä fiilis? – PastoriPike', 'Ola Onabulé (UK/NGR) feat. UMO Helsinki – UMO Helsinki Jazz Orchestra presents: Great Voices', 'Laineen Kasperi & Liian Iso Trio + Ester Nuori Leppä – Stoa Black Box', \"Out 'n loud: OMG22\", 'Jarmon saarella 52 v. – Kevään 2022 säkenöivin gaalakonsertti', 'Let It Be 50v -juhlakonsertti – Jiri Nikkinen The Beatles Tribute Band', 'Mikko Perkoila – Juurilla I Maksuttomat maanantait', 'Ladies First Big Band goes ABBA', 'Christian McBride and Inside Straight (USA) – Savoy JAZZFest 3.-6.3.2022', 'The Nicholas Payton Trio (USA) – Savoy JAZZFest 3.-6.3.2022', 'Artemis (USA) – Savoy JAZZFest 3.-6.3.2022', 'Savoy JAZZFest 3-6.3.', 'Wusheng Companyn Macbeth | ENSI-ILTA', 'Anni Pohto: The Rising', 'Eva Vikman & Premium Jazz Experience – Jazzia svengaten', 'Rakkaudesta -konsertti', 'Sami Hintsanen – Juurilla I Maksuttomat maanantait', 'LAIBACH: Love is Still Alive', 'Wigwam Experience', 'NITS: Knot', 'Jesse Kaikuranta', 'Madboiali', 'Sepikka + Lyyti – Stoa Black Box', 'The Residents (US) – Dog Stab! The 50th Anniversary Tour', 'Nuori Luotsi (1927) + Philomela – Kinokonsertti', 'Elvis Presley -tribuutti!', 'Päistikka lähtee lentoon', 'Carmen suviyössä – Oopperayhdistys Operaatio! ry', 'UMO Helsinki Jazz Orchestra feat. Aili Ikonen & Kyösti Mäkimattila – Yle Radio 1:n Muistojen bulevardi – 10-vuotisjuhlakonsertti', '\"Still Got The Blues\" – Gary Moore Tribuutti – Antti Kajander & The Spanish Castle', 'SQÜRL – (Jim Jarmusch & Carter Logan)', 'Kinokonsertti South', 'Wimme & Rinne', 'Laineen Kasperi & Liian Iso Trio – A la Malmi', 'Iiro Rantala & Lotta Kuusisto: Sanat ja Sävel', 'Emola-Hatsina String Band', 'Näin unta kesästä kerran', \"60's British Blues Night – Ilkka Rantamäki $ The Bluesbrokers\", 'Kalle Kinos + Ege Zulu + GADA – Stoa Black Box', 'Musatehdas – \"Circle of 365\" – Oulunkylän yhteiskoulu & UMO Helsinki', \"Georg Ots 100v. Rakastan sinua, elämä – Jori Otsa & Mah'Orkka esittää\", 'Mimmit: Musapatti – Musiikkia, oppimista ja korvamatoja!', 'Iiro & Arttu: Tribute to Chick Corea – Farewell to Lockdown', 'Liisa Tavi: Rakkaudesta elämään – Lauluja nuoruudestani', 'The Great Helsinki Swing Big Band: As Time Goes By – Solistina Emilia Sisco', 'Dionysian Band: Tribute to the Doors', \"Adele Sauros Quartet – Jazz'n'Jam\", 'Piazzolla – 100 vuotta intohimoa', 'Kansantansseja elävän musiikin säestyksellä – Irlanti & Itävalta', 'LOPPUUNMYYTY Pikkutonttu kiikaroi – Satu Sopanen & Tuttiorkesteri', 'Teatteri Mukamas: Joulu on jo ovella – Annantalon joulu', 'Erja Lyytinen & Friends: Blue Christmas 2021 – Erja Lyytinen, Aija Puurtinen, Ben Granfelt ja Dave Lindholm', \"Betty's Follies – Party like Gatsby\", 'Aika ihanin – Kaj Chydeniuksen lauluja', 'Myrkur Folkesange – KONSERTTI SIIRTYY -> TAPIOLASALIIN KE 7.5.2022', 'Malmitalon yhteislaulut', 'VESALA 40 -juhlakiertue', 'Kauneimmat joululaulut', 'Pop & Jazz Konservatorio – Laulunkirjoittajien ilta – Emil Hill | Lauri Peisterä', 'Salvador Sobral in concert', 'Rosita Luu + Pambikallio – Stoa Black Box', 'The Great Helsinki Swing Big Band: Christmas in My Soul – Solistina Soul Sisters', 'Swinging Christmas 2021', 'Maustetytöt - Vuoden pimein yö', 'Wabanag ja Riina Hosio & J-P Piirainen: Vakaa yhteys – Etno – Folk Station', 'Mimmien joulukonsertti – Palkittua lastenmusiikkia | Ruotsinkielinen konsertti', 'Ko-kollektiivi: Kodinkonejamit – Annantalon joulu', 'Mimmien joulukonsertti – Palkittua lastenmusiikkia | Suomenkielinen konsertti', 'Le Grand Tango: Sandås - Cellomania - Suolahti – Caisa Classequal', 'SOULMIEHET - Elävänä eteenpäin – Sami Saari, Niko Ahvonen, Jussu Pöyhönen', 'Pekko Käppi & K:H:H:L, Ninni Forever Band – A la Malmi', 'Ogeli Big Band goes Christmas', 'Maria Ylipää & Ystävät – Star of Wonder', 'Opi suomea laulaen – Laulupajat maahanmuuttajille', 'Annantalon joulu', \"Reiska Laine Quintet – Jazz'n'Jam\", 'Astrid Swan, Akkajee – KONSERTTI SIIRTYY -> la 27.8.2022', 'Paleface ja Laulava Unioni', 'Joulu on jo ovella – Teatteri Mukamas', 'Pop & Jazz Konservatorion Tribuutti-ilta', 'Liisa Tavi: Rakkaudesta elämään – Lauluja nuoruudestani – Bändissä Arto Piispanen ja Ville Rauhala', 'Kanneltalon itsenäisyyspäivän juhla perheille', 'Lasten itsenäisyyspäivän juhlat!', 'Flyygelikuu – Miikka Taipale', 'Vallilan kuoro konsertit: Lauttasaaren Ostari ja Runebergin patsas', 'Kuorojen kierros', 'Rakas joulu – Kallion Kantaattikuoro 110 v.', 'Aventur konsertit: Kolumbus ostoskeskus Vuosaari ja Stockan lippa', 'Itsenäisyyspäivän juhlakonsertti 2021', 'Anton Morozow', 'Pinkki ja Fankki', 'Itsenäisyyspäivän aaton kirkkojuhla 2021', 'Tunnelmallista joulumusiikkia', 'Oulunkylän Seurahuone Band', 'Seoul Club', \"Neonya!! Party - New Year's Tropical Rave\", 'Espoon Laulu konsertit: Jakomäen sydän ja WTC:n edusta, Keskuskatu', 'Lempikuoro konsertit: Haagan tori, Kappelin lava', 'Grex Musicus konsertit: Kaapeli Ornamo ja Pauligin kulma', 'Rekolan Sekakuoro konsertit: Kontulan ostari / aukio  ja Vanhan Kirkon Puisto', 'Sekakuoro Vola konsertit: Kauppakeskus Hertsi ja Musiikkitalo', \"It's a kuoro konsertit: Munkkiniemen puukioski ja City Center/2. tasanne\", 'Procantus konsertit: Mellunmäen metroasema ja Mikonkatu/Nomen Nescio -kaupan edusta', 'Akateeminen Laulu: konsertit Oulunkylän Seurahuone ja Akateemisen kirjakaupan sisäänkäynti', 'Tevri Ensemble konsertit: Karhupuisto ja Amos Rexin sisäpiha', 'Salsa con Sabor: Julio Romero y su Ritmo Latino', 'Coro Latinoamericano konsertit: Uusi Sauna ja Topeliuksen patsas', 'Joulun tähdet, joulukonsertti ', 'Elegia/Maailman Kuoro konsertit: Puhos ja Kauppatori', 'Bösendorfer 1882: Ofelia', 'Kenkävaahto konsertit: Vuorimiehenpuistikko ja Ateneumin takaportaat', 'Metsoforte konsertit: Roihuvuoren Rio ja Kosmoksen edusta, Kalevankatu', 'Kullervo-kuoro konsertit: Kauppakeskus Kaari ja Kolmen sepän patsas', 'Arjen laulu konsertit: Ala-Malmin tori ja Aleksanterin patsas', 'Hämäläis-osakunnan Laulajat konsertit: Käpylän Lippakioski ja Keskuskatu/Artek', 'Saunabaarin joulumyyjäiset', 'Pihlajamäen puurojuhla 2021', 'Villimarjat konsertit: Töölön Tori ja Oodi', 'Perjantaipuuhat!', 'Vauva-aamu', 'Leikkipuisto Oravan Joulutapahtuma', \"Big Night - New Year's Eve 2022\", 'Scandinavian Music Group', 'Naisten taidepaja', 'Itsenäisyyspäivän luisteluetkot', 'Musatehdas', 'Lukas Leon Live', 'Musaa, makkaraa ja kirjoja', 'Yhteislaulua', 'Les Lumières -festivaali 2022', 'Maailma kylässä -festivaali 2022', 'Cats', 'Café Barock: The Spirit of Gambo', 'Kaartin ja Karitan joulukonsertti', 'Vallilan Tango', 'Jo riemuitkaa! – Joulun sävelet soivat taas', 'Luovuus lentoon', 'Taaperoaamu', 'Taivallahden tahdit', 'Rytmiranta - Musiikkituokio', 'Perheaamu', 'EMO Ensemble: Tähti', 'Uudenvuoden Disco', 'Lauluyhtye inTones - joulukonsertti', 'Sepän soinnut', 'Perheperjantai', 'Kamarikuoro Kaamos: Talviyö-joulukonsertti', 'Joulun taikaa', 'Pop & Jazz Konservatorion lounaskonsertti', 'Academy Of Sounds! ti 7.12. 17-22 @Tiivistämö', 'Justin Bieber', 'Sibafest – Recovery Tour 2022', 'Somnium Ensemblen joulukonsertti', 'Sibeliuksen syntymän juhlakierros', 'Kamarikuoro Addiction joulukonsertti', 'Abiza Winter Festival 2022', 'Liikuntamyllyn mindfulness-hetki Skool-yhtyen säestämänä', 'Seniorien Barokkipajan joulukonsertti', 'Valoa yön pimeyteen', 'TixiBand 75-vuotisjuhlakonsertti', 'India@75 -konsertti', 'Viikin valon juhla', 'Maagisessa paikassa', 'Joulun värähtelyä - elektroninen joulukonsertti', 'Lauluyhtye Merry Ladies - joulua ja yllätyksiä', 'Folk, blues & beyond', 'Hassan Maikal meet and greet', 'Open Stage With Bryn And Ben', 'Peter Juhan & Limsky: Unpublished Remedies ', 'Vauvatreffit perhetalo Sahramissa', 'Vauvaperjantai perhetalo Sahramissa', 'Perhetreffit perhetalo Sahramissa', 'Kolme kuoroa ja Jyrki Niskanen, joulukonsertti', 'Joulun sanoma ja laulut englanniksi', 'Monikulttuurinen itsenäisyyspäiväjuhla: tanssia, taidetta ja musiikkia', 'Kuokkavieraat Vallilan kirjastossa', 'Bröderna Pixon och TV:ns hemtrevliga sken', 'Showkuoro Aventur: The Joulukonsertti', 'Liirum Laarum laulu- ja lorutuokio', 'We Jazz 2021', 'Tänään leikitään! perhetalo Sahramissa', 'Taaperotreffit perhetalo Sahramissa', 'Hehku - Ahjo Ensemblen joulukonsertti', 'Ed Sheeran', 'Ipana-aamu', 'Pienten biisit musiikkituokio', 'The Weeknd', 'Naiskuoro KYN:n joulukonsertit', 'Cavalluna 2022', 'Modernismin klassikot: Stockhausen & Ligeti', 'Sabaton', 'Litku Klemetti', 'Caisa 25 vuotta! – Kulttuurikeskus Caisa täyttää 25 vuotta!', 'Tommy Emmanuel ', 'Polyteknikkojen Orkesteri: 100-vuotisjuhlakonsertti', 'Vipinää ja vilskettä', 'Salakeikka', 'Billy Ocean', 'Musari - musiikki- ja lauluhetki kaikenikäisille ', 'UMO Helsinki Jazz Orchestra', 'Liikuntaleikit', 'Taaperotiistai', 'Liikutaan yhdessä!', 'Etsintäpartio! ', 'Eläköön elämä ja\\u202fTixiBand', 'Tuska Festival 2022', 'Samantha Fish', 'Einstürzende Neubauten', 'Antti Tuisku', 'Elton John', 'Säg det i toner - yhteislaulu', 'Pienten pihapuuhat', 'Italienisches Liederbuch – Laulukirja italialaisittain', 'Laululeikit', 'D-A-D & Melrose', 'Lasten lauantai: Siina & Taikaradio: Laulubussi matkustaa (LOPPUUNVARATTU)', 'Louhiklubi: Knipi', 'Satuooppera Hannu ja Kerttu', 'Mariska', 'Yhteislaulua Saunabaarissa', 'Kuinka rock tuli Maunulaan?', 'Nightwish', 'Louhiklubi: Kettunen-Kuokkanen - Johanna & Mikko Iivanainen', 'The Elvis Concert', 'Samuli Putro - Keskellä kesää', 'Iloinen leski', 'La Traviata', 'Haloo Helsinki!', 'Laulun takaa -klubi: Aki Tykki', 'Nukketeatteri Sampo: Joulu tulla jollottaa', 'Matineakonsertti: Joulutarina', 'Iltapäiväkonsertti: Jouluisia lauluja ja liedejä', 'Iltapäiväelokuva: David Copperfieldin elämä ja teot', 'Tapiola Sinfonietta: Avoin kenraaliharjoitus 4', 'Seimiyö-joulukonsertti', 'Karina', 'Edu Kettunen - Kone älä hyydy', 'Jupo & Suna', 'Tapiola Sinfonietta: Valon säteitä', 'Laura Voutilainen: Mitähän Seuraavaks?', 'Queen + Adam Lambert', 'Tapiola Sinfonietta: Hetkiä III: 12.12.21', 'Kids2Santa2021', 'KISS: End Of The Road', 'Engelbert Humperdinck', 'In The Park 2022: Faith No More', 'Max Raabe & Palast Orchester', 'Helloween', 'Helsinki Beatles Weekend', 'Koko Karita', 'Salome', 'Joutsenlampi', 'Oopperan kummitus', 'Don Pasquale', 'Billy Budd', 'Flow Festival 2022', 'Danko Jones: A Tour Supreme', 'Drive-By Truckers', 'Joan As Police Woman (US)', 'Sunrise Avenue', 'Menopaussi-musikaali', 'Edu Kettunen', 'Judas Priest', 'Sideways 2022', 'God Is An Astronaut ', 'Petrus Schroderus: Rakasta elämää!', 'Eric Clapton ', 'Björk', 'The Mission', 'Silvennoinen, Försti, Hela & Band', 'Clannad', 'Pate Mustajärvi', 'Celine Dion', 'Siirtyy: Erja Lyytinen', 'Akhnaten', 'Siirtyy: Akhnaten', 'Frank Gambale – All Star Band', 'Tuure Kilpeläinen & Kaihon Karavaani: Paluu paratiisiin 2022', 'Siirtyy: Ghost of Bruce Springsteen & E Street Band', 'Siirtyy: Gàjanas', 'Turandot', 'Helsinki Open Waves – Kuuntele monikielistä radiota!', 'Apocalyptica ', 'Siirtyy: Ensiferum', 'Siirtyy v. 2021: Härkä katolla', 'Siirtyy: Suuri Joulukonsertti', 'Siirtyy: Ufo Mustosen laulukerho: Mariska', 'Ozzy Osbourne', 'Jean Sibelius -viulukilpailu 2022', 'Siirtyy 2021: Alppipuiston kesä 2020', 'Siirtyy: Innocence', 'Innocence']\n"
     ]
    }
   ],
   "source": [
    "import requests\n",
    "\n",
    "url = \"https://open-api.myhelsinki.fi/v1/events/\"\n",
    "\n",
    "req = requests.get(url=url)\n",
    "\n",
    "music_events = []\n",
    "\n",
    "data = req.json()['data']\n",
    "for i in data:\n",
    "    for j in i['tags']:\n",
    "        if j['name'] == 'music':\n",
    "            if i['name']['fi'] not in music_events:\n",
    "                music_events.append(i['name']['fi'])\n",
    "            break\n",
    "print(music_events)"
   ]
  }
 ],
 "metadata": {
  "kernelspec": {
   "display_name": "Python 3",
   "language": "python",
   "name": "python3"
  },
  "language_info": {
   "codemirror_mode": {
    "name": "ipython",
    "version": 3
   },
   "file_extension": ".py",
   "mimetype": "text/x-python",
   "name": "python",
   "nbconvert_exporter": "python",
   "pygments_lexer": "ipython3",
   "version": "3.8.8"
  }
 },
 "nbformat": 4,
 "nbformat_minor": 4
}
