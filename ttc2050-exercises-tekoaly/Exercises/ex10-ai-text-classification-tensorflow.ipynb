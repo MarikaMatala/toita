{
 "cells": [
  {
   "cell_type": "markdown",
   "metadata": {},
   "source": [
    "## Exercise 10 - Text classification with Tensorflow\r\n",
    "- In this exercise you utilize the *DisneylandReviews.csv* located in data_files directory.\r\n",
    "- This exercise has the following phases:\r\n",
    "    - Load the data from csv file.\r\n",
    "    - Create directory structure including sample files from the data you loaded.\r\n",
    "    - Train your neural network with the extracted data.\r\n",
    "    - Validate the operation of your trained model.\r\n",
    "- Use [this example](https://hantt.pages.labranet.jamk.fi/ttc2050-material/material/10-ai-text-classification-tensorflow/) as a reference."
   ]
  },
  {
   "cell_type": "markdown",
   "metadata": {},
   "source": [
    "YRITIN TEHDÄ LUOKKAKAVEREIDEN KANSSA YHDESSÄ, KUN TENSORFLOW EI ITSELLÄ SUOSTU TOIMIMAAN"
   ]
  },
  {
   "cell_type": "markdown",
   "metadata": {},
   "source": [
    "1 Import all the necessary libraries listed in our Tensorflow example. Read the csv file DisneylandReviews.csv into a data structure of your choice (list, dict, json...)."
   ]
  },
  {
   "cell_type": "code",
   "execution_count": 2,
   "metadata": {},
   "outputs": [
    {
     "ename": "ModuleNotFoundError",
     "evalue": "No module named 'tensorflow'",
     "output_type": "error",
     "traceback": [
      "\u001b[1;31m---------------------------------------------------------------------------\u001b[0m",
      "\u001b[1;31mModuleNotFoundError\u001b[0m                       Traceback (most recent call last)",
      "\u001b[1;32m<ipython-input-2-9040dcef6389>\u001b[0m in \u001b[0;36m<module>\u001b[1;34m\u001b[0m\n\u001b[0;32m      4\u001b[0m \u001b[1;32mimport\u001b[0m \u001b[0mshutil\u001b[0m\u001b[1;33m\u001b[0m\u001b[1;33m\u001b[0m\u001b[0m\n\u001b[0;32m      5\u001b[0m \u001b[1;32mimport\u001b[0m \u001b[0mstring\u001b[0m\u001b[1;33m\u001b[0m\u001b[1;33m\u001b[0m\u001b[0m\n\u001b[1;32m----> 6\u001b[1;33m \u001b[1;32mimport\u001b[0m \u001b[0mtensorflow\u001b[0m \u001b[1;32mas\u001b[0m \u001b[0mtf\u001b[0m\u001b[1;33m\u001b[0m\u001b[1;33m\u001b[0m\u001b[0m\n\u001b[0m\u001b[0;32m      7\u001b[0m \u001b[1;33m\u001b[0m\u001b[0m\n\u001b[0;32m      8\u001b[0m \u001b[1;32mfrom\u001b[0m \u001b[0mtensorflow\u001b[0m\u001b[1;33m.\u001b[0m\u001b[0mkeras\u001b[0m \u001b[1;32mimport\u001b[0m \u001b[0mlayers\u001b[0m\u001b[1;33m,\u001b[0m \u001b[0mlosses\u001b[0m\u001b[1;33m,\u001b[0m \u001b[0mpreprocessing\u001b[0m\u001b[1;33m\u001b[0m\u001b[1;33m\u001b[0m\u001b[0m\n",
      "\u001b[1;31mModuleNotFoundError\u001b[0m: No module named 'tensorflow'"
     ]
    }
   ],
   "source": [
    "import matplotlib.pyplot as plt\n",
    "import os\n",
    "import re\n",
    "import shutil\n",
    "import string\n",
    "import tensorflow as tf\n",
    "\n",
    "from tensorflow.keras import layers, losses, preprocessing\n",
    "from tensorflow.keras.layers.experimental.preprocessing import TextVectorization"
   ]
  },
  {
   "cell_type": "code",
   "execution_count": 3,
   "metadata": {},
   "outputs": [],
   "source": [
    "import csv\n",
    "\n",
    "disneydata = []\n",
    "\n",
    "with open(\"data_files/DisneylandReviews.csv\", \"r\", encoding=\"ISO-8859-1\") as f:\n",
    "    disneydata_csv = csv.reader(f, delimiter=',')\n",
    "    for i, disney in enumerate(disneydata_csv):\n",
    "        if i != 0:\n",
    "            disneydata.append({\n",
    "                \"review_id\": int(disney[0]),\n",
    "                \"rating\": int(disney[1]),\n",
    "                \"year_month\": disney[2],\n",
    "                \"reviewer_location\": disney[3],\n",
    "                \"review_text\": disney[4],\n",
    "                \"branch\": disney[5],\n",
    "            })"
   ]
  },
  {
   "cell_type": "code",
   "execution_count": null,
   "metadata": {},
   "outputs": [],
   "source": []
  },
  {
   "cell_type": "code",
   "execution_count": null,
   "metadata": {},
   "outputs": [],
   "source": []
  },
  {
   "cell_type": "code",
   "execution_count": null,
   "metadata": {},
   "outputs": [],
   "source": []
  },
  {
   "cell_type": "markdown",
   "metadata": {},
   "source": [
    "2 Create the directory structure presented below either by using python's os library or manually. So there should be *disney_review_data* directory which has two subdirectories: *train* and *test*. Both of those directories should then have two subdirectories: *pos* and *neg*.\r\n",
    "\r\n",
    "```\r\n",
    "disney_review_data\r\n",
    "    |\r\n",
    "    |----train\r\n",
    "    |      |----pos\r\n",
    "    |      |----neg\r\n",
    "    |\r\n",
    "    |----test\r\n",
    "           |----pos\r\n",
    "           |----neg\r\n",
    "```"
   ]
  },
  {
   "cell_type": "code",
   "execution_count": 4,
   "metadata": {},
   "outputs": [],
   "source": [
    " os.makedirs( 'disney_review_data/train/pos', exist_ok=True )\n",
    "os.makedirs( 'disney_review_data/train/neg', exist_ok=True )\n",
    "os.makedirs( 'disney_review_data/test/pos', exist_ok=True )\n",
    "os.makedirs( 'disney_review_data/test/neg', exist_ok=True )"
   ]
  },
  {
   "cell_type": "markdown",
   "metadata": {},
   "source": [
    "3 Loop through your saved data and save it as text files (.txt) into the directory structure. First 80 % of the data should go into *pos* and *neg* subdirectories under the *train* directory with the following conditions:\r\n",
    "- pos = rating is 4 or more\r\n",
    "- neg = rating is 2 or less\r\n",
    "\r\n",
    "The last 20 % should go into the *pos* and *neg* subdirectories under the *test* directory using the same conditions as above. Rating value of 3 is considered to be neutral and should not be processed."
   ]
  },
  {
   "cell_type": "code",
   "execution_count": 5,
   "metadata": {},
   "outputs": [],
   "source": [
    "for i, data in enumerate(disneydata):\n",
    "    filename = f\"{i}.txt\"\n",
    "    if i < (len(disneydata) * 0.8):\n",
    "        if data[\"rating\"] >= 4:            \n",
    "            with open(f\"disney_review_data/train/pos/{filename}\", \"w\") as f:\n",
    "                f.write(data[\"review_text\"])\n",
    "        elif data[\"rating\"] <= 2:            \n",
    "            with open(f\"disney_review_data/train/neg/{filename}\", \"w\") as f:\n",
    "                f.write(data[\"review_text\"])\n",
    "    else:\n",
    "        if data[\"rating\"] >= 4:            \n",
    "            with open(f\"./disney_review_data/test/pos/{filename}\", \"w\") as f:\n",
    "                f.write(data[\"review_text\"])\n",
    "        elif data[\"rating\"] <= 2:            \n",
    "            with open(f\"./disney_review_data/test/neg/{filename}\", \"w\") as f:\n",
    "                f.write(data[\"review_text\"])   "
   ]
  },
  {
   "cell_type": "markdown",
   "metadata": {},
   "source": [
    "4 Use material page linked above as a reference and implement the text classification example to your notebook. Now modify it so that your Disneyland review data will be read from the directory structure you created earlier. Run the notebook and ensure that no errors are present."
   ]
  }
 ],
 "metadata": {
  "kernelspec": {
   "display_name": "Python 3",
   "language": "python",
   "name": "python3"
  },
  "language_info": {
   "codemirror_mode": {
    "name": "ipython",
    "version": 3
   },
   "file_extension": ".py",
   "mimetype": "text/x-python",
   "name": "python",
   "nbconvert_exporter": "python",
   "pygments_lexer": "ipython3",
   "version": "3.8.8"
  }
 },
 "nbformat": 4,
 "nbformat_minor": 4
}
