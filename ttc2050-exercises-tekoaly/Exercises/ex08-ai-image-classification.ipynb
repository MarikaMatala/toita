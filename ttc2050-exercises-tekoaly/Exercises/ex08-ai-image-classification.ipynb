{
 "cells": [
  {
   "cell_type": "markdown",
   "metadata": {},
   "source": [
    "## Exercise 8 - Image classification with Neuwo AI\r\n",
    "- In this exercise you will use our Neuwo AI platform in Labranet.\r\n",
    "- **Important**: In order to connect to this service you must have your Labranet VPN connection active!\r\n",
    "- Service can be found <a href=\"https://neuwo.labranet.jamk.fi/\" target=\"_blank\">here</a>.\r\n",
    "- You might get warning about the certificate, which you must accept in order to continue to the service.\r\n",
    "- If you haven't created the account previously, do so by clicking the **REGISTER NOW!** button from the login screen.\r\n",
    "- **Important**: You will need a registration token for registration. Contact teacher and he will generate a token for you.\r\n",
    "- Now do the following steps:"
   ]
  },
  {
   "cell_type": "markdown",
   "metadata": {},
   "source": [
    "EN TEHNYT!"
   ]
  },
  {
   "cell_type": "markdown",
   "metadata": {},
   "source": [
    "1 Choose any image dataset you find interesting. Write a little description about the dataset you have chosen. **Important**: Use different dataset than the one used in the demo (Face mask recognition)!"
   ]
  },
  {
   "cell_type": "markdown",
   "metadata": {},
   "source": [
    "2 Create a project (Choose **START NEW** after login) and use the following settings:\r\n",
    "- **Phase 1**: Give your project a name and follow this naming convention: *ttc2050-ex08-student_id* (For example *ttc2050-ex08-h1111*). In addition, write a short description for your project.\r\n",
    "- **Phase 2**: Select **Bbox object detection** as config example and then add the labels you want to use into the **Labeling Config**.\r\n",
    "- **Phase 3**: ML-MODEL: Choose **bounding-box** and how many processed images before starting the training process.\r\n",
    "- **Phase 4**: Upload your image dataset.\r\n",
    "- **Phase 5**: Start labeling"
   ]
  },
  {
   "cell_type": "markdown",
   "metadata": {},
   "source": [
    "3 Present your results here with example screenshots including the AI chosen bounding boxes in each image."
   ]
  }
 ],
 "metadata": {
  "kernelspec": {
   "display_name": "Python 3",
   "language": "python",
   "name": "python3"
  },
  "language_info": {
   "codemirror_mode": {
    "name": "ipython",
    "version": 3
   },
   "file_extension": ".py",
   "mimetype": "text/x-python",
   "name": "python",
   "nbconvert_exporter": "python",
   "pygments_lexer": "ipython3",
   "version": "3.8.8"
  }
 },
 "nbformat": 4,
 "nbformat_minor": 4
}
