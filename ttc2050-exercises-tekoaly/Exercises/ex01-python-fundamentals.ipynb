{
 "cells": [
  {
   "cell_type": "markdown",
   "metadata": {},
   "source": [
    "## Exercise 1 - Python fundamentals Part 1"
   ]
  },
  {
   "cell_type": "markdown",
   "metadata": {},
   "source": [
    "1 Sentence is presented in the code cell below. Create a variable which has first ten and last ten characters concatenated."
   ]
  },
  {
   "cell_type": "code",
   "execution_count": 1,
   "metadata": {},
   "outputs": [],
   "source": [
    "# Sentence\n",
    "s = \"Gary must look towards the future in order to gather enough information from the target.\""
   ]
  },
  {
   "cell_type": "code",
   "execution_count": 2,
   "metadata": {},
   "outputs": [],
   "source": [
    "s_con = s[0:10] + s[-10:]"
   ]
  },
  {
   "cell_type": "code",
   "execution_count": 3,
   "metadata": {},
   "outputs": [
    {
     "data": {
      "text/plain": [
       "'Gary must he target.'"
      ]
     },
     "execution_count": 3,
     "metadata": {},
     "output_type": "execute_result"
    }
   ],
   "source": [
    "s_con"
   ]
  },
  {
   "cell_type": "markdown",
   "metadata": {},
   "source": [
    "2 Count the number of white spaces between words from the previous sentence and divide that number with the length of the sentence."
   ]
  },
  {
   "cell_type": "code",
   "execution_count": 4,
   "metadata": {},
   "outputs": [
    {
     "data": {
      "text/plain": [
       "0.1590909090909091"
      ]
     },
     "execution_count": 4,
     "metadata": {},
     "output_type": "execute_result"
    }
   ],
   "source": [
    "# Your answer here\n",
    "\n",
    "s_ws = len(s.split(' ')) - 1\n",
    "s_divide = s_ws / len(s)\n",
    "\n",
    "s_divide\n"
   ]
  },
  {
   "cell_type": "markdown",
   "metadata": {},
   "source": [
    "3 Add the following cars to the existing list of dictionary objects:\n",
    "    - Red Toyota Corolla (1985)\n",
    "    - Lightblue Ford Mustang (1965)\n",
    "    - Black Pontiac Firebird (1987)"
   ]
  },
  {
   "cell_type": "code",
   "execution_count": 5,
   "metadata": {},
   "outputs": [],
   "source": [
    "# Cars\n",
    "cars = [{\"make\":\"Ford\",\"model\":\"escort\",\"color\":\"green\",\"year\":1994},{\"make\":\"Lexus\",\"model\":\"IS250\",\"color\":\"beige\",\"year\":2013},{\"make\":\"Volvo\",\"model\":\"S40\",\"color\":\"blue\",\"year\":1998}]"
   ]
  },
  {
   "cell_type": "code",
   "execution_count": 8,
   "metadata": {},
   "outputs": [
    {
     "data": {
      "text/plain": [
       "[{'make': 'Ford', 'model': 'escort', 'color': 'green', 'year': 1994},\n",
       " {'make': 'Lexus', 'model': 'IS250', 'color': 'beige', 'year': 2013},\n",
       " {'make': 'Volvo', 'model': 'S40', 'color': 'blue', 'year': 1998},\n",
       " {'make': 'Toyota', 'model': 'corolla', 'color': 'red', 'year': 1985},\n",
       " {'make': 'Ford', 'model': 'mustang', 'color': 'lightblue', 'year': 1965},\n",
       " {'make': 'Pontiac', 'model': 'firebird', 'color': 'black', 'year': 1987},\n",
       " {'make': 'Toyota', 'model': 'corolla', 'color': 'red', 'year': 1985},\n",
       " {'make': 'Ford', 'model': 'mustang', 'color': 'lightblue', 'year': 1965},\n",
       " {'make': 'Pontiac', 'model': 'firebird', 'color': 'black', 'year': 1987},\n",
       " {'make': 'Toyota', 'model': 'corolla', 'color': 'red', 'year': 1985},\n",
       " {'make': 'Ford', 'model': 'mustang', 'color': 'lightblue', 'year': 1965},\n",
       " {'make': 'Pontiac', 'model': 'firebird', 'color': 'black', 'year': 1987}]"
      ]
     },
     "execution_count": 8,
     "metadata": {},
     "output_type": "execute_result"
    }
   ],
   "source": [
    "cars.extend([{\"make\":\"Toyota\",\"model\":\"corolla\",\"color\":\"red\",\"year\":1985},\n",
    "            {\"make\":\"Ford\",\"model\":\"mustang\",\"color\":\"lightblue\",\"year\":1965},\n",
    "            {\"make\":\"Pontiac\",\"model\":\"firebird\",\"color\":\"black\",\"year\":1987}\n",
    "            ])\n",
    "cars"
   ]
  },
  {
   "cell_type": "markdown",
   "metadata": {},
   "source": [
    "4 Convert the sentence presented below to list using commas (,) as separators. Then create a new list which contains only the last three items from the list."
   ]
  },
  {
   "cell_type": "code",
   "execution_count": 9,
   "metadata": {},
   "outputs": [],
   "source": [
    "# Sentence\n",
    "s = \"Occaecat short ribs incididunt laboris. Bresaola, brisket ex, landjaeger ad, boudin pariatur frankfurter eu flank. Enim tail short ribs, shoulder duis minim excepteur, deserunt lorem porchetta. Dolor chicken spare ribs, id in, ball, tip, hamburger labore venison consectetur cupidatat.\""
   ]
  },
  {
   "cell_type": "code",
   "execution_count": 10,
   "metadata": {},
   "outputs": [
    {
     "data": {
      "text/plain": [
       "[' ball', ' tip', ' hamburger labore venison consectetur cupidatat.']"
      ]
     },
     "execution_count": 10,
     "metadata": {},
     "output_type": "execute_result"
    }
   ],
   "source": [
    "s_sp = s.split(',')\n",
    "\n",
    "s_sp[-3:]"
   ]
  },
  {
   "cell_type": "markdown",
   "metadata": {},
   "source": [
    "5 Below is a list containing words. Sort the words in the first half of the list by length in ascending order and words in the last half of the list so that words will be sorted alphabetically in descending order. Combine these list into one."
   ]
  },
  {
   "cell_type": "code",
   "execution_count": 11,
   "metadata": {},
   "outputs": [],
   "source": [
    "# Word list\n",
    "word_list = [\"brainstorming\",\"staff\",\"north\",\"outside\",\"pass\",\"leftover\",\"offline\",\"journey\",\"globalize\",\"zero\",\"bandwidth\",\"outsourcing\",\"fruit\",\"productive\"]"
   ]
  },
  {
   "cell_type": "code",
   "execution_count": 12,
   "metadata": {},
   "outputs": [
    {
     "data": {
      "text/plain": [
       "['pass',\n",
       " 'staff',\n",
       " 'north',\n",
       " 'outside',\n",
       " 'offline',\n",
       " 'leftover',\n",
       " 'brainstorming',\n",
       " 'zero',\n",
       " 'productive',\n",
       " 'outsourcing',\n",
       " 'journey',\n",
       " 'globalize',\n",
       " 'fruit',\n",
       " 'bandwidth']"
      ]
     },
     "execution_count": 12,
     "metadata": {},
     "output_type": "execute_result"
    }
   ],
   "source": [
    "wl_len = int(len(word_list)/2)\n",
    "wl_1 = word_list[:wl_len]\n",
    "wl_2 = word_list[-wl_len:]\n",
    "\n",
    "sorted_wl_1 = sorted(wl_1, key=len)\n",
    "\n",
    "sorted_wl_2 = sorted(wl_2, reverse=True)\n",
    "\n",
    "sorted_wl_1 + sorted_wl_2"
   ]
  }
 ],
 "metadata": {
  "kernelspec": {
   "display_name": "Python 3",
   "language": "python",
   "name": "python3"
  },
  "language_info": {
   "codemirror_mode": {
    "name": "ipython",
    "version": 3
   },
   "file_extension": ".py",
   "mimetype": "text/x-python",
   "name": "python",
   "nbconvert_exporter": "python",
   "pygments_lexer": "ipython3",
   "version": "3.8.8"
  }
 },
 "nbformat": 4,
 "nbformat_minor": 4
}
