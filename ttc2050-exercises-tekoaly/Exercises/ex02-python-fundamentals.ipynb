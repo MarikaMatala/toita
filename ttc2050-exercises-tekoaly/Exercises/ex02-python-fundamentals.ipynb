{
 "cells": [
  {
   "cell_type": "markdown",
   "metadata": {},
   "source": [
    "## Exercise 2 - Python fundamentals Part 2"
   ]
  },
  {
   "cell_type": "markdown",
   "metadata": {},
   "source": [
    "1 Create a function which will go through a list called **vars** and save the type of each variable to a new list. The starting information is given in the next cell."
   ]
  },
  {
   "cell_type": "code",
   "execution_count": 2,
   "metadata": {},
   "outputs": [],
   "source": [
    "# Your function here\n",
    "\n",
    "\n",
    "# Test\n",
    "vars = [100,\"Car\",25000,10.0,[\"a\",\"b\",\"c\"],True,(\"a\",\"b\")]\n",
    "\n"
   ]
  },
  {
   "cell_type": "code",
   "execution_count": 3,
   "metadata": {},
   "outputs": [
    {
     "data": {
      "text/plain": [
       "[int, str, int, float, list, bool, tuple]"
      ]
     },
     "execution_count": 3,
     "metadata": {},
     "output_type": "execute_result"
    }
   ],
   "source": [
    "def list_type(lst):\n",
    "    type_list = []\n",
    "    for var in lst:\n",
    "        type_list.append(type(var))\n",
    "    return type_list\n",
    "\n",
    "list_type(vars)\n"
   ]
  },
  {
   "cell_type": "markdown",
   "metadata": {},
   "source": [
    "2 You are given two lists **l1** and **l2**. Create a function which will take two lists as input and print values that are present in both lists."
   ]
  },
  {
   "cell_type": "code",
   "execution_count": 4,
   "metadata": {},
   "outputs": [],
   "source": [
    "# Your function here\n",
    "\n",
    "\n",
    "# Test\n",
    "l1 = [1,4,5,7,8,9,10]\n",
    "l2 = [1,2,3,5,6,7,9]\n"
   ]
  },
  {
   "cell_type": "code",
   "execution_count": 5,
   "metadata": {},
   "outputs": [
    {
     "name": "stdout",
     "output_type": "stream",
     "text": [
      "1\n",
      "5\n",
      "7\n",
      "9\n"
     ]
    }
   ],
   "source": [
    "def present_both(lst1,lst2):\n",
    "    for i in lst1:\n",
    "        if i in lst2:\n",
    "            print(i)\n",
    "            \n",
    "present_both(l1,l2)\n"
   ]
  },
  {
   "cell_type": "markdown",
   "metadata": {},
   "source": [
    "3 Below is a list containing words. Create a function which returns only words with length of 4 or less."
   ]
  },
  {
   "cell_type": "code",
   "execution_count": 6,
   "metadata": {},
   "outputs": [],
   "source": [
    "# Your function here\n",
    "\n",
    "\n",
    "# Test\n",
    "words = [\"bootcamp\",\"yellow\",\"development\",\"full-time\",\"code\",\"fresh\",\"\",\"static\",\"red\",\"advance\",\"mill\",\"story\",\"are\"]\n"
   ]
  },
  {
   "cell_type": "code",
   "execution_count": 7,
   "metadata": {},
   "outputs": [],
   "source": [
    "def four_char_or_less(lst):\n",
    "    new_lst = []\n",
    "    for i in lst:\n",
    "        if len(i) <= 4:\n",
    "            new_lst.append(i)\n",
    "    return new_lst\n"
   ]
  },
  {
   "cell_type": "code",
   "execution_count": 8,
   "metadata": {},
   "outputs": [
    {
     "data": {
      "text/plain": [
       "['code', '', 'red', 'mill', 'are']"
      ]
     },
     "execution_count": 8,
     "metadata": {},
     "output_type": "execute_result"
    }
   ],
   "source": [
    "four_char_or_less(words)"
   ]
  },
  {
   "cell_type": "markdown",
   "metadata": {},
   "source": [
    "4 Create a function which takes does the following:\r\n",
    "    - Take list of dictionaries containing information of data loggers presented below as an input\r\n",
    "    - Iterate through the dictionary and count the total amount of each sensor type. Example: {\"temp\":2,\"hum\":5,\"light\":2,\"noise\":4}.\r\n",
    "    - Return this dictionary"
   ]
  },
  {
   "cell_type": "code",
   "execution_count": 10,
   "metadata": {},
   "outputs": [],
   "source": [
    "# Data loggers\n",
    "sdata = [{\"ID\":\"logger-1\",\"sensors\":[\"temp\",\"hum\",\"noise\"]},{\"ID\":\"logger-2\",\"sensors\":[\"temp\",\"hum\"]},{\"ID\":\"logger-3\",\"sensors\":[\"temp\",\"hum\",\"light\"]},{\"ID\":\"logger-4\",\"sensors\":[\"temp\",\"hum\",\"light\"]},{\"ID\":\"logger-5\",\"sensors\":[\"temp\",\"hum\",\"noise\",\"light\"]}]\n"
   ]
  },
  {
   "cell_type": "code",
   "execution_count": 11,
   "metadata": {},
   "outputs": [
    {
     "data": {
      "text/plain": [
       "{'temp': 5, 'hum': 5, 'noise': 2, 'light': 3}"
      ]
     },
     "execution_count": 11,
     "metadata": {},
     "output_type": "execute_result"
    }
   ],
   "source": [
    "def sensor_count(data):\n",
    "    sensor_dict = {}\n",
    "    for i in data:\n",
    "        for sensor in i['sensors']:\n",
    "            if sensor not in sensor_dict:\n",
    "                sensor_dict[sensor] = 1\n",
    "            else:\n",
    "                sensor_dict[sensor] += 1\n",
    "    return sensor_dict\n",
    "\n",
    "sensor_count(sdata)\n"
   ]
  },
  {
   "cell_type": "markdown",
   "metadata": {},
   "source": [
    "5 Create a class for computer user which contains the following information:\n",
    "- Attributes\n",
    "    - username\n",
    "    - password (in plaintext)\n",
    "    - account status (active, locked)\n",
    "    - usertype (guest,regular,admin)\n",
    "- Methods\n",
    "    - check account status\n",
    "    - change account status\n",
    "    - change password (must be at least 8 characters long or error is shown)\n",
    "\n",
    "Test the operation of your class! Password check does not have to be done when password is initially set for the object."
   ]
  },
  {
   "cell_type": "code",
   "execution_count": 13,
   "metadata": {},
   "outputs": [],
   "source": [
    "class UsersComputer():\n",
    "    def __init__(self, username, password, accountstatus, usertype):\n",
    "        self.username = username\n",
    "        self.password = password\n",
    "        self.accountstatus = accountstatus\n",
    "        self.usertype = usertype\n",
    "\n",
    "    def check_accountstatus(self):\n",
    "        print(\"Username is {} and account status is {}\".format(self.username,self.accountstatus))\n",
    "        \n",
    "    def check_memory(self):\n",
    "        print(self.memory)\n",
    "\n",
    "    def change_accountstatus(self,new_status):\n",
    "        self.accountstatus = new_status\n",
    "        \n",
    "    def change_password(self,new_password):\n",
    "        if len(new_password) < 8:\n",
    "                print(\"Must be at least 8 characters long\")\n",
    "        else:\n",
    "                self.password = new_password\n",
    "        \n",
    "    def check_password(self):\n",
    "        print(\"Username is {} and password is {}\".format(self.username,self.password))\n",
    "  "
   ]
  },
  {
   "cell_type": "code",
   "execution_count": 14,
   "metadata": {},
   "outputs": [
    {
     "name": "stdout",
     "output_type": "stream",
     "text": [
      "Username is Marika and account status is Active\n"
     ]
    }
   ],
   "source": [
    " User1 = UsersComputer(\"Marika\",\"matalamaki91\",\"Active\",\"Admin\")\n",
    "User1.check_accountstatus()"
   ]
  },
  {
   "cell_type": "code",
   "execution_count": 15,
   "metadata": {},
   "outputs": [
    {
     "name": "stdout",
     "output_type": "stream",
     "text": [
      "Username is Marika and account status is locked\n"
     ]
    }
   ],
   "source": [
    "User1.change_accountstatus(\"locked\")\n",
    "User1.check_accountstatus()"
   ]
  },
  {
   "cell_type": "code",
   "execution_count": 16,
   "metadata": {},
   "outputs": [
    {
     "name": "stdout",
     "output_type": "stream",
     "text": [
      "Username is Marika and password is salasana1991\n"
     ]
    }
   ],
   "source": [
    "User1.change_password(\"salasana1991\")\n",
    "User1.check_password()"
   ]
  },
  {
   "cell_type": "code",
   "execution_count": 17,
   "metadata": {},
   "outputs": [
    {
     "name": "stdout",
     "output_type": "stream",
     "text": [
      "Must be at least 8 characters long\n",
      "Username is Marika and password is salasana1991\n"
     ]
    }
   ],
   "source": [
    "User1.change_password(\"moi123\")\n",
    "User1.check_password()"
   ]
  },
  {
   "cell_type": "code",
   "execution_count": null,
   "metadata": {},
   "outputs": [],
   "source": []
  }
 ],
 "metadata": {
  "kernelspec": {
   "display_name": "Python 3",
   "language": "python",
   "name": "python3"
  },
  "language_info": {
   "codemirror_mode": {
    "name": "ipython",
    "version": 3
   },
   "file_extension": ".py",
   "mimetype": "text/x-python",
   "name": "python",
   "nbconvert_exporter": "python",
   "pygments_lexer": "ipython3",
   "version": "3.8.8"
  }
 },
 "nbformat": 4,
 "nbformat_minor": 4
}
